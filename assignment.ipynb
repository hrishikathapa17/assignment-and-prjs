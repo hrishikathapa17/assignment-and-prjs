{
 "cells": [
  {
   "cell_type": "markdown",
   "metadata": {},
   "source": [
    "ASSIGNMENT OF HRISHIKA THAPA, SEC-\"A\""
   ]
  },
  {
   "cell_type": "code",
   "execution_count": null,
   "metadata": {},
   "outputs": [],
   "source": [
    "##SECITON 1: CONDITIONAL STATEMENT."
   ]
  },
  {
   "cell_type": "markdown",
   "metadata": {},
   "source": [
    "1.Write a program that asks the user to enter a number and checkswhether the number is even or odd."
   ]
  },
  {
   "cell_type": "code",
   "execution_count": null,
   "metadata": {},
   "outputs": [
    {
     "name": "stdout",
     "output_type": "stream",
     "text": [
      "10 is even\n"
     ]
    }
   ],
   "source": [
    "\n",
    "num =int(input(\"enter a number: \"))\n",
    "if num % 2 == 0:\n",
    "    print(f\"{num} is even\")\n",
    "else:\n",
    "     print(f\"{num} is odd\")"
   ]
  },
  {
   "cell_type": "markdown",
   "metadata": {},
   "source": [
    "2. Write a program that asks the user to enter a number and checks\n",
    "whether it is positive, negative, or zero."
   ]
  },
  {
   "cell_type": "code",
   "execution_count": null,
   "metadata": {},
   "outputs": [
    {
     "name": "stdout",
     "output_type": "stream",
     "text": [
      "100 is postive\n"
     ]
    }
   ],
   "source": [
    "\n",
    "num=int(input(\"enter a number: \"))\n",
    "if num > 0:\n",
    "    print(f\"{num} is postive\")\n",
    "elif num < 0:\n",
    "    print(f\"{num} is negative\")\n",
    "else:\n",
    "     print(f\"{num }is zero\")    "
   ]
  },
  {
   "cell_type": "markdown",
   "metadata": {},
   "source": [
    "3.Write a program that asks the user to enter their age and checks\n",
    "if they are eligible to vote (18 years or older)."
   ]
  },
  {
   "cell_type": "code",
   "execution_count": 2,
   "metadata": {},
   "outputs": [
    {
     "name": "stdout",
     "output_type": "stream",
     "text": [
      "You are eligilbe to vote.\n"
     ]
    }
   ],
   "source": [
    "age = int(input(\"enter the age: \"))\n",
    "if age >= 18:\n",
    "    print(\"You are eligilbe to vote.\")\n",
    "else:\n",
    "    print(\"You are not eligible to vote>\")    "
   ]
  },
  {
   "cell_type": "markdown",
   "metadata": {},
   "source": [
    "4.Write a program that takes the lengths of three sides of a\n",
    "triangle as input and determines if the triangle is:\n",
    "○ Equilateral (all sides are equal)\n",
    "○ Isosceles (two sides are equal)\n",
    "○ Scalene (all sides are different)"
   ]
  },
  {
   "cell_type": "code",
   "execution_count": 7,
   "metadata": {},
   "outputs": [
    {
     "name": "stdout",
     "output_type": "stream",
     "text": [
      "It is an isosceles triangle.\n"
     ]
    }
   ],
   "source": [
    "length1= int(input(\"Enter length of first side: \"))\n",
    "length2= int(input(\"Enter the length of second side: \"))\n",
    "length3= int(input(\"Enter the length of third side: \"))\n",
    "if length1 == length2 == length3:\n",
    "    print(\"It is an equilateral triangle.\")\n",
    "elif length1!= length2 or length3 and length2==length3 or length1:\n",
    "    print(\"It is an isosceles triangle.\")\n",
    "else:\n",
    "    print(\"It is a scalene triangle.\")    \n"
   ]
  },
  {
   "cell_type": "markdown",
   "metadata": {},
   "source": [
    "5.Write a program that asks the user to enter a password and checks\n",
    "if it matches a predefined password (e.g., \"Python123\")."
   ]
  },
  {
   "cell_type": "code",
   "execution_count": 10,
   "metadata": {},
   "outputs": [
    {
     "name": "stdout",
     "output_type": "stream",
     "text": [
      "the password matches.\n"
     ]
    }
   ],
   "source": [
    "predefined_password= \"Hrishika123\"\n",
    "password=input(\"enter a password: \")\n",
    "if predefined_password == password:\n",
    "    print(\"the password matches.\")\n",
    "else:\n",
    "    print(\"the password doesn't match.\")    "
   ]
  },
  {
   "cell_type": "code",
   "execution_count": null,
   "metadata": {},
   "outputs": [],
   "source": [
    "#SECTION-2"
   ]
  },
  {
   "cell_type": "markdown",
   "metadata": {},
   "source": [
    "\n",
    "6. Multiplication Table: Write a Python program to print the\n",
    "multiplication table of a given number using a for loop.\n",
    "Example:\n",
    "○ Input: 5\n",
    "○ Output: 5, 10, 15, ..., 50"
   ]
  },
  {
   "cell_type": "code",
   "execution_count": 1,
   "metadata": {},
   "outputs": [
    {
     "name": "stdout",
     "output_type": "stream",
     "text": [
      "5* 1= 5\n",
      "5* 2= 10\n",
      "5* 3= 15\n",
      "5* 4= 20\n",
      "5* 5= 25\n",
      "5* 6= 30\n",
      "5* 7= 35\n",
      "5* 8= 40\n",
      "5* 9= 45\n",
      "5* 10= 50\n"
     ]
    }
   ],
   "source": [
    "number = int(input(\"enter the number for multiplication table\"))\n",
    "for i in range(1,11):\n",
    "    print(f\"{number}* {i}= {number*i}\")\n",
    "    "
   ]
  },
  {
   "cell_type": "markdown",
   "metadata": {},
   "source": [
    "7. Count Vowels: Write a program to count and display the number of\n",
    "vowels in a given string."
   ]
  },
  {
   "cell_type": "code",
   "execution_count": 2,
   "metadata": {},
   "outputs": [
    {
     "name": "stdout",
     "output_type": "stream",
     "text": [
      "The number of vowels in the given string is: 3\n"
     ]
    }
   ],
   "source": [
    "input_string = input(\"enter the string: \")\n",
    "vowels = \"a e i o u A E I O U\"\n",
    "count=0\n",
    "for char in input_string:\n",
    "    if char in vowels:\n",
    "        count +=1\n",
    "print(f\"The number of vowels in the given string is: {count}\")        "
   ]
  },
  {
   "cell_type": "markdown",
   "metadata": {},
   "source": [
    "8. Sum of Even Numbers Create a program to find the sum of all even numbers in a list using a for loop.\n",
    "Example:\n",
    "\n",
    "1.Input: [2, 5, 8, 3]\n",
    "2.Output: 10"
   ]
  },
  {
   "cell_type": "code",
   "execution_count": 3,
   "metadata": {},
   "outputs": [
    {
     "name": "stdout",
     "output_type": "stream",
     "text": [
      "sum of the number is: 12\n"
     ]
    }
   ],
   "source": [
    "numbers = [1,2,3,4,5,6,7]\n",
    "sum_num =0\n",
    "for i in numbers:\n",
    "    if i % 2 == 0:\n",
    "        sum_num +=i\n",
    "print(f\"sum of the number is: {sum_num}\")   "
   ]
  },
  {
   "cell_type": "markdown",
   "metadata": {},
   "source": [
    "9. Create a program to find the largest and smallest numbers in a list using a for loop.\n",
    "Example: Input = [10, 20, 5, 8], Output = Largest = 20, Smallest = 5"
   ]
  },
  {
   "cell_type": "code",
   "execution_count": 5,
   "metadata": {},
   "outputs": [
    {
     "name": "stdout",
     "output_type": "stream",
     "text": [
      "largest number = 8, smallest number = 1\n"
     ]
    }
   ],
   "source": [
    "numbers = [1,2,3,4,5,6,7,8]\n",
    "largest = numbers[0]\n",
    "smallest = numbers[0]\n",
    "\n",
    "for num in numbers:\n",
    "    if num > largest:\n",
    "        largest = num\n",
    "    if num < smallest: num\n",
    "\n",
    "print(f\"largest number = {largest}, smallest number = {smallest}\")    "
   ]
  },
  {
   "cell_type": "markdown",
   "metadata": {},
   "source": [
    "10. Write a program to calculate the sum of digits of a given number using a for loop.\n",
    "Example: Input = 1234, Output = 10"
   ]
  },
  {
   "cell_type": "code",
   "execution_count": 10,
   "metadata": {},
   "outputs": [
    {
     "name": "stdout",
     "output_type": "stream",
     "text": [
      "The sum of digits of the numbers 101 is: 2\n"
     ]
    }
   ],
   "source": [
    "number = int(input(\"Enter a number: \"))\n",
    "sum_of_digits = 0\n",
    "for digit in str(number):\n",
    "    sum_of_digits += int(digit)\n",
    "print(f\"The sum of digits of the numbers {number} is: {sum_of_digits}\")    "
   ]
  },
  {
   "cell_type": "markdown",
   "metadata": {},
   "source": [
    "11. Write a program to reverse a given string using a for loop.\n",
    "Example: Input =\"Python\" Output =\"nohtyP\""
   ]
  },
  {
   "cell_type": "code",
   "execution_count": 11,
   "metadata": {},
   "outputs": [
    {
     "name": "stdout",
     "output_type": "stream",
     "text": [
      "The reversed string is: akihsirH\n"
     ]
    }
   ],
   "source": [
    "input_a_string= \"Hrishika\"\n",
    "reversed_string = \"\"\n",
    "for char in input_string: reversed_string = char +reversed_string\n",
    "print(f\"The reversed string is: {reversed_string}\")"
   ]
  },
  {
   "cell_type": "code",
   "execution_count": null,
   "metadata": {},
   "outputs": [],
   "source": [
    "###Section 3: Functions"
   ]
  },
  {
   "cell_type": "markdown",
   "metadata": {},
   "source": [
    "1. Factorial Function: Write a function factorial(n) that returns the factorial of a number using a for loop."
   ]
  },
  {
   "cell_type": "code",
   "execution_count": 19,
   "metadata": {},
   "outputs": [
    {
     "name": "stdout",
     "output_type": "stream",
     "text": [
      "479001600\n"
     ]
    }
   ],
   "source": [
    "def factorial(n):\n",
    "    result = 1\n",
    "    for i in range(1, n+1):\n",
    "        result*= i\n",
    "    return result \n",
    "print(factorial(12))"
   ]
  },
  {
   "cell_type": "markdown",
   "metadata": {},
   "source": [
    "2. Prime Check Function: Create a function is_prime(n) to check whether a number is prime."
   ]
  },
  {
   "cell_type": "code",
   "execution_count": 24,
   "metadata": {},
   "outputs": [
    {
     "name": "stdout",
     "output_type": "stream",
     "text": [
      "True\n"
     ]
    }
   ],
   "source": [
    "def is_prime(n):\n",
    "    if n <= 1:\n",
    "        return False\n",
    "    for i in range(2, int(n/2)+1):\n",
    "        if n%i==0:\n",
    "            return False\n",
    "        return True\n",
    "print(is_prime(7))\n"
   ]
  },
  {
   "cell_type": "markdown",
   "metadata": {},
   "source": [
    "3. Find Maximum in List:Write a function find_max(lst) to find and return the maximum value in a list.\n",
    "Example: Input: [1, 3, 7, 0] , Output: 7"
   ]
  },
  {
   "cell_type": "code",
   "execution_count": 30,
   "metadata": {},
   "outputs": [
    {
     "name": "stdout",
     "output_type": "stream",
     "text": [
      "8\n"
     ]
    }
   ],
   "source": [
    "def find_max(lst):\n",
    "    max_value = lst[0]\n",
    "    for num in lst:\n",
    "        if num> max_value:\n",
    "            max_value= num\n",
    "    return max_value \n",
    "user_input= input(\"Enter elements of the list with space:\")   \n",
    "user_list= user_input.split()  \n",
    "user_list = [int(i) for i in user_list]\n",
    "print(find_max(user_list))\n",
    "      "
   ]
  },
  {
   "cell_type": "markdown",
   "metadata": {},
   "source": [
    "4. Write a function palindrome_check(string) that returns True if the given string is a palindrome, otherwise False.\n",
    "Example: Input =\"radar\", Output = True"
   ]
  },
  {
   "cell_type": "code",
   "execution_count": 32,
   "metadata": {},
   "outputs": [
    {
     "name": "stdout",
     "output_type": "stream",
     "text": [
      "False\n"
     ]
    }
   ],
   "source": [
    "def palindrome_check(string):\n",
    "    return string == string[:: -1]\n",
    "print(palindrome_check(\"Hrisu\"))"
   ]
  },
  {
   "cell_type": "markdown",
   "metadata": {},
   "source": [
    "5. Write a function sum_of_squares(n) that returns the sum of squares of the first n natural numbers."
   ]
  },
  {
   "cell_type": "code",
   "execution_count": 34,
   "metadata": {},
   "outputs": [
    {
     "name": "stdout",
     "output_type": "stream",
     "text": [
      "5\n"
     ]
    }
   ],
   "source": [
    "def sum_of_squares(n):\n",
    "    return sum(i**2 for i in range(1,n+1))\n",
    "print(sum_of_squares(2))\n"
   ]
  },
  {
   "cell_type": "markdown",
   "metadata": {},
   "source": [
    "6. Write a function sum_of_squares(n) that returns the sum of squares of the first n natural numbers."
   ]
  },
  {
   "cell_type": "code",
   "execution_count": 6,
   "metadata": {},
   "outputs": [
    {
     "name": "stdout",
     "output_type": "stream",
     "text": [
      "The sum of squares of the first 6 naturn numbers is : 91\n"
     ]
    }
   ],
   "source": [
    "def sum_of_squares(n):\n",
    "    return sum(i**2 for i in range(1,n+1))\n",
    "\n",
    "n = int(input(\"Enter a number: \"))\n",
    "result = sum_of_squares(n)\n",
    "print(f\"The sum of squares of the first {n} naturn numbers is : {result}\")\n"
   ]
  },
  {
   "cell_type": "code",
   "execution_count": null,
   "metadata": {},
   "outputs": [],
   "source": [
    "###Section 4: Classes"
   ]
  },
  {
   "cell_type": "markdown",
   "metadata": {},
   "source": [
    "1. Rectangle Class:Define a class Rectangle with:\n",
    "Two attributes: length and width.\n",
    "A method area() to calculate the area.\n",
    "A method perimeter() to calculate the perimeter."
   ]
  },
  {
   "cell_type": "code",
   "execution_count": 44,
   "metadata": {},
   "outputs": [
    {
     "name": "stdout",
     "output_type": "stream",
     "text": [
      "area: 12\n",
      "perimeter: 14\n"
     ]
    }
   ],
   "source": [
    "class rectangle:\n",
    "    def __init__(self, length, width):\n",
    "        self.length = length\n",
    "        self.width = width \n",
    "    def area(self):\n",
    "        return self.length * self.width\n",
    "    def perimeter(self):\n",
    "        return 2 * (self.length + self.width)\n",
    "rect = rectangle(3,4)\n",
    "print(f\"area: {rect.area()}\")\n",
    "print(f\"perimeter: {rect.perimeter()}\")\n",
    "            "
   ]
  },
  {
   "cell_type": "markdown",
   "metadata": {},
   "source": [
    "2. Student Class: Create a class Student with:\n",
    "Attributes: name, roll_number, and marks.\n",
    "A method display_details() to print the student's details.\n",
    "A method is_passed() that returns True if marks ≥ 40, else False."
   ]
  },
  {
   "cell_type": "code",
   "execution_count": 59,
   "metadata": {},
   "outputs": [
    {
     "name": "stdout",
     "output_type": "stream",
     "text": [
      "name: Hrishika Thapa\n",
      "Roll number: 12\n",
      "Mark: 80\n",
      "passed: True\n"
     ]
    }
   ],
   "source": [
    "class student :\n",
    "    def __init__(self, name, roll_number, marks):\n",
    "        self.name = name\n",
    "        self.roll_number = roll_number\n",
    "        self.marks = marks\n",
    "    def display_details(self):\n",
    "        print(f\"name: {self.name}\")\n",
    "        print(f\"Roll number: {self.roll_number}\")\n",
    "        print(f\"Mark: {self.marks}\")\n",
    "    def is_passed(self):\n",
    "        return self.marks > 40 \n",
    "student = student(\"Hrishika Thapa\",\"12\", 80)\n",
    "student.display_details()\n",
    "print(f\"passed: {student.is_passed()}\")\n",
    "\n",
    "                      "
   ]
  },
  {
   "cell_type": "markdown",
   "metadata": {},
   "source": [
    "3. Define a class Circle with:\n",
    "Attribute: radius.\n",
    "Methods: area() to calculate the area, circumference() to calculate the circumference."
   ]
  },
  {
   "cell_type": "code",
   "execution_count": 61,
   "metadata": {},
   "outputs": [
    {
     "name": "stdout",
     "output_type": "stream",
     "text": [
      "area: 78.5\n",
      "circumference: 31.400000000000002\n"
     ]
    }
   ],
   "source": [
    "class circle:\n",
    "    def __init__(self,radius):\n",
    "        self.radius = radius\n",
    "    def area(self):\n",
    "        return 3.14*self.radius ** 2\n",
    "    def circumference(self):\n",
    "        return 2*3.14*self.radius\n",
    "circle= circle(5)\n",
    "print(f\"area: {circle.area()}\")\n",
    "print(f\"circumference: {circle.circumference()}\")\n"
   ]
  },
  {
   "cell_type": "markdown",
   "metadata": {},
   "source": [
    "4. Create a class BankAccount with:\n",
    "Attributes: account_number, account_holder, balance.\n",
    "Methods:\n",
    "deposit(amount) to add money to the account.\n",
    "withdraw(amount) to subtract money (if sufficient balance is available).\n",
    "display_balance() to print the current balance.\n"
   ]
  },
  {
   "cell_type": "code",
   "execution_count": 1,
   "metadata": {},
   "outputs": [
    {
     "name": "stdout",
     "output_type": "stream",
     "text": [
      "Deposited 200. Current balance: 700\n",
      "Withdrew 100. Current balance: 600\n",
      "Account balance: 600\n",
      "Insufficient funds!\n"
     ]
    }
   ],
   "source": [
    "class BankAccount:\n",
    "    def __init__(self, account_number, account_holder, balance=0):\n",
    "        self.account_number = account_number\n",
    "        self.account_holder = account_holder\n",
    "        self.balance = balance\n",
    "\n",
    "    def deposit(self, amount):\n",
    "        if amount > 0:\n",
    "            self.balance += amount\n",
    "            print(f\"Deposited {amount}. Current balance: {self.balance}\")\n",
    "        else:\n",
    "            print(\"Deposit amount must be positive.\")\n",
    "\n",
    "    def withdraw(self, amount):\n",
    "        if amount > 0:\n",
    "            if amount <= self.balance:\n",
    "                self.balance -= amount\n",
    "                print(f\"Withdrew {amount}. Current balance: {self.balance}\")\n",
    "            else:\n",
    "                print(\"Insufficient funds!\")\n",
    "        else:\n",
    "            print(\"Withdrawal amount must be positive.\")\n",
    "\n",
    "    def display_balance(self):\n",
    "        print(f\"Account balance: {self.balance}\")\n",
    "account = BankAccount(account_number=\"129075643\", account_holder=\"Hrishika Thapa\", balance=500)\n",
    "account.deposit(200)  \n",
    "account.withdraw(100)  \n",
    "account.display_balance()  \n",
    "account.withdraw(700)  \n"
   ]
  },
  {
   "cell_type": "markdown",
   "metadata": {},
   "source": [
    "5. A class Book with: Attributes: title, author, price.\n",
    "● Methods:\n",
    "\n",
    "apply_discount(discount) to reduce the price by a given percentage.\n",
    "display_details() to print the book details."
   ]
  },
  {
   "cell_type": "code",
   "execution_count": 88,
   "metadata": {},
   "outputs": [
    {
     "name": "stdout",
     "output_type": "stream",
     "text": [
      "title: Say hi to life\n",
      "author: hrisu thapa\n",
      "price: $1800.00\n"
     ]
    }
   ],
   "source": [
    "class book:\n",
    "    def __init__(self, title, author, price):\n",
    "        self.title = title\n",
    "        self.author = author\n",
    "        self.price = price \n",
    "    def apply_discount(self, discount):\n",
    "        self.price -=self.price * (discount/100)    \n",
    "    def display_details(self):\n",
    "        print(f\"title: {self.title}\")\n",
    "        print(f\"author: {self.author}\")\n",
    "        print(f\"price: ${self.price:.2f}\")\n",
    "book = book(\"Say hi to life\",\"hrisu thapa\",2000)  \n",
    "book.apply_discount(10)      \n",
    "book.display_details()"
   ]
  },
  {
   "cell_type": "markdown",
   "metadata": {},
   "source": [
    "6. Create a class Calculator with:\n",
    "A method add(a, b) to add two numbers.\n",
    "A method subtract(a, b) to subtract two numbers.\n",
    "A method multiply(a, b) to multiply two numbers.\n",
    "A method divide(a, b) to divide two numbers (handle division by zero gracefully).\n"
   ]
  },
  {
   "cell_type": "code",
   "execution_count": 95,
   "metadata": {},
   "outputs": [
    {
     "name": "stdout",
     "output_type": "stream",
     "text": [
      "22\n",
      "18\n",
      "40\n",
      "10.0\n"
     ]
    }
   ],
   "source": [
    "class calculator:\n",
    "    def add(self,a,b):\n",
    "        return a+b\n",
    "    def subtraction(self,a,b):\n",
    "        return a-b\n",
    "    def multiply(self,a,b):\n",
    "        return a*b\n",
    "    def divide(self,a,b):\n",
    "        if b!= 0:\n",
    "            return a/b\n",
    "        else: \n",
    "            return \"Error: Division by zero\"\n",
    "calc = calculator()\n",
    "print(calc.add(20,2))\n",
    "print(calc.subtraction(20,2))\n",
    "print(calc.multiply(20,2))\n",
    "print(calc.divide(20,2))\n",
    "\n",
    "    "
   ]
  },
  {
   "cell_type": "markdown",
   "metadata": {},
   "source": [
    "7. Write a class Person with:\n",
    "Attributes: name, age, gender.\n",
    "Method introduce() to print a message like: \"Hello, my nameis [name], I am [age] years old, and I am a [gender].\n",
    "Create a subclass Employee that adds: ■ Attribute: job_title. ■ Override introduce() to include the job title."
   ]
  },
  {
   "cell_type": "code",
   "execution_count": 109,
   "metadata": {},
   "outputs": [
    {
     "name": "stdout",
     "output_type": "stream",
     "text": [
      "Hello, My name is Hrishika, I am a 22 year old, and i  am a female\n",
      "Hello, My name is Hrishika, I am 18 year old, I am a female, and i work as a student\n"
     ]
    }
   ],
   "source": [
    "class Person:\n",
    "    def __init__(self, name, age, gender):\n",
    "        self.name = name\n",
    "        self.age = age \n",
    "        self.gender = gender\n",
    "    def introduce(self):\n",
    "        print(f\"Hello, My name is {self.name}, I am a {self.age} year old, and i  am a {self.gender}\")\n",
    "class Employee(Person):\n",
    "    def __init__(self, name, age, gender, job_title):\n",
    "        super().__init__(name, age, gender)\n",
    "        self.job_title = job_title\n",
    "\n",
    "    def introduce(self):\n",
    "        print(f\"Hello, My name is {self.name}, I am {self.age} year old, I am a {self.gender}, and i work as a {self.job_title}\")\n",
    "person = Person(\"Hrishika\", 22, \"female\")\n",
    "person.introduce()\n",
    "employee = Employee(\"Hrishika\", 18,\"female\", \"student\")  \n",
    "employee.introduce()  "
   ]
  },
  {
   "cell_type": "code",
   "execution_count": null,
   "metadata": {},
   "outputs": [],
   "source": [
    "####SECTION 4"
   ]
  },
  {
   "cell_type": "markdown",
   "metadata": {},
   "source": [
    "1. File Creation and Writing: Write a Python script to:\n",
    "Create a file named data.txt.\n",
    "Write the numbers from 1 to 10 (each on a new line) to the file.\n",
    "Read the file and print its contents."
   ]
  },
  {
   "cell_type": "code",
   "execution_count": 110,
   "metadata": {},
   "outputs": [
    {
     "name": "stdout",
     "output_type": "stream",
     "text": [
      "1\n",
      "2\n",
      "3\n",
      "4\n",
      "5\n",
      "6\n",
      "7\n",
      "8\n",
      "9\n",
      "10\n",
      "\n"
     ]
    }
   ],
   "source": [
    "with open('data.txt', 'w') as file:\n",
    "    for i in range(1,11):\n",
    "        file.write(f\"{i}\\n\")\n",
    "\n",
    "with open ('data.txt', 'r') as file:\n",
    "    contents = file.read()\n",
    "    print(contents)\n"
   ]
  },
  {
   "cell_type": "markdown",
   "metadata": {},
   "source": [
    "2. Word Count in File: Write a program that reads a file named sample.txt, counts the number of words in it, and prints the result."
   ]
  },
  {
   "cell_type": "code",
   "execution_count": 111,
   "metadata": {},
   "outputs": [
    {
     "name": "stdout",
     "output_type": "stream",
     "text": [
      "file contents: I am Hrishika Thapa.\n",
      "Number of words: 4\n"
     ]
    }
   ],
   "source": [
    "with open('sample.txt', 'w') as file:\n",
    "    file.write(\"I am Hrishika Thapa.\")\n",
    "with open('sample.txt', 'r') as file:\n",
    "    contents = file.read()\n",
    "    word_count = len(contents.split())\n",
    "print(f\"file contents: {contents}\")\n",
    "print(f\"Number of words: {word_count}\")"
   ]
  },
  {
   "cell_type": "code",
   "execution_count": null,
   "metadata": {},
   "outputs": [],
   "source": [
    "###Section 5: Error Handling"
   ]
  },
  {
   "cell_type": "markdown",
   "metadata": {},
   "source": [
    "1. Division with Error Handling: Write a program that takes two numbers as input and divides the first number by the second.\n",
    "Use try and except to handle the division by zero error."
   ]
  },
  {
   "cell_type": "code",
   "execution_count": null,
   "metadata": {},
   "outputs": [
    {
     "name": "stdout",
     "output_type": "stream",
     "text": [
      "The result of division is: 4.0\n"
     ]
    }
   ],
   "source": [
    "try:\n",
    "    num1 = float(input(\"enter the first number: \"))\n",
    "    num2 =float(input(\"enter the second number: \"))\n",
    "    result = num1/num2\n",
    "    print(f\"The result of division is: {result}\")\n",
    "except ZeroDivisionError:\n",
    "    print(\"error: division by zero is not allowed.\")\n",
    "except ValueError:\n",
    "    print(\"error: please enter valid numbers.\")"
   ]
  },
  {
   "cell_type": "markdown",
   "metadata": {},
   "source": [
    "2. Integer Input Validation: Create a program that asks the user to input an integer.\n",
    "Use try, except, and else to handle invalid input. Example:\n",
    "Input: abc\n",
    "Output: \"Invalid input, please enter an integer.\""
   ]
  },
  {
   "cell_type": "code",
   "execution_count": 114,
   "metadata": {},
   "outputs": [
    {
     "name": "stdout",
     "output_type": "stream",
     "text": [
      "you entered the integer: 6\n"
     ]
    }
   ],
   "source": [
    "try:\n",
    "    user_input= int(input(\"please enter an integer: \"))\n",
    "except ValueError:\n",
    "    print(\"invalid input, please enter an integer\")\n",
    "else:\n",
    "    print(f\"you entered the integer: {user_input}\") \n",
    "       "
   ]
  },
  {
   "cell_type": "markdown",
   "metadata": {},
   "source": [
    "3. File Not Found Error Handling: Write a script that:\n",
    "Opens a file named unknown.txt.\n",
    "Handles the FileNotFoundError gracefully and prints an appropriate message."
   ]
  },
  {
   "cell_type": "code",
   "execution_count": 115,
   "metadata": {},
   "outputs": [
    {
     "name": "stdout",
     "output_type": "stream",
     "text": [
      "Error: Sorry the file 'unknown.txt' was not found\n"
     ]
    }
   ],
   "source": [
    "try:\n",
    "    with open('unknown.txt', 'r') as file:\n",
    "        contents = file.read()\n",
    "        print(contents)\n",
    "except FileNotFoundError:\n",
    "    print(\"Error: Sorry the file 'unknown.txt' was not found\")\n",
    "    "
   ]
  },
  {
   "cell_type": "markdown",
   "metadata": {},
   "source": [
    "* project work\n",
    "GUESS THE NUMBER GAME\n"
   ]
  },
  {
   "cell_type": "code",
   "execution_count": 2,
   "metadata": {},
   "outputs": [
    {
     "name": "stdout",
     "output_type": "stream",
     "text": [
      "Hello! Welcome to the Number Pyramid game\n",
      "Guess the numbers in the pyramid to win the game. Best of luck!!!\n",
      "\n",
      "Here is the pyramid:\n",
      "   3    \n",
      "   34   \n",
      "  416   \n",
      "  6823  \n",
      "Wrong! The correct number was 3.\n",
      "Wrong! The correct number was 3.\n",
      "Correct!\n",
      "Wrong! The correct number was 4.\n",
      "Wrong! The correct number was 1.\n",
      "Wrong! The correct number was 6.\n",
      "Correct!\n",
      "Wrong! The correct number was 8.\n",
      "Wrong! The correct number was 2.\n",
      "Wrong! The correct number was 3.\n",
      "\n",
      "Game over! You got 2 out of 10 correct\n"
     ]
    }
   ],
   "source": [
    "import random\n",
    "class NumberPyramid:\n",
    "    def __init__(self, size):\n",
    "        self.size = size\n",
    "        self.pyramid = self.generate_pyramid()\n",
    "    def generate_pyramid(self):\n",
    "        pyramid = []\n",
    "        for i in range(1, self.size + 1):\n",
    "            row = [random.randint(1,9) for _ in range(i)] \n",
    "            pyramid.append(row)\n",
    "        return pyramid\n",
    "    def display_pyramid(self):\n",
    "        for row in self.pyramid:\n",
    "            print(\"\".join(map(str,row)).center(self.size * 2))\n",
    "\n",
    "    def play_game(self):\n",
    "        print(\"Hello! Welcome to the Number Pyramid game\")\n",
    "        print(\"Guess the numbers in the pyramid to win the game. Best of luck!!!\")\n",
    "        print(\"\\nHere is the pyramid:\")\n",
    "        self.display_pyramid()\n",
    "\n",
    "        correct_guesses=0\n",
    "        for row_index, row in enumerate(self.pyramid):\n",
    "            for col_index, num in enumerate(row):\n",
    "                guess = int(input(f\"Guess the number at position ({row_index + 1},{ col_index +1}):\"))\n",
    "                if guess == num:\n",
    "                    print(\"Correct!\")\n",
    "                    correct_guesses +=1\n",
    "                else:\n",
    "                    print(f\"Wrong! The correct number was {num}.\")\n",
    "        print(f\"\\nGame over! You got {correct_guesses} out of {self.size * (self.size +1) // 2} correct\") \n",
    "\n",
    "def main():\n",
    "    size = int(input(\"Enter the size of the pyramid:\"))\n",
    "    game = NumberPyramid(size)     \n",
    "    game.play_game()\n",
    "    \n",
    "main()\n",
    "   \n",
    "\n",
    "           "
   ]
  }
 ],
 "metadata": {
  "kernelspec": {
   "display_name": "Python 3",
   "language": "python",
   "name": "python3"
  },
  "language_info": {
   "codemirror_mode": {
    "name": "ipython",
    "version": 3
   },
   "file_extension": ".py",
   "mimetype": "text/x-python",
   "name": "python",
   "nbconvert_exporter": "python",
   "pygments_lexer": "ipython3",
   "version": "3.13.0"
  }
 },
 "nbformat": 4,
 "nbformat_minor": 2
}
